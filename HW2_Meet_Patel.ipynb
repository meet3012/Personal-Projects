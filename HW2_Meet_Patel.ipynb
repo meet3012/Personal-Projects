{
  "nbformat": 4,
  "nbformat_minor": 0,
  "metadata": {
    "colab": {
      "name": "HW2_Meet_Patel.ipynb",
      "provenance": [],
      "collapsed_sections": [],
      "include_colab_link": true
    },
    "kernelspec": {
      "display_name": "Python 3",
      "language": "python",
      "name": "python3"
    }
  },
  "cells": [
    {
      "cell_type": "markdown",
      "metadata": {
        "id": "view-in-github",
        "colab_type": "text"
      },
      "source": [
        "<a href=\"https://colab.research.google.com/github/meet3012/Personal-Projects/blob/main/HW2_Meet_Patel.ipynb\" target=\"_parent\"><img src=\"https://colab.research.google.com/assets/colab-badge.svg\" alt=\"Open In Colab\"/></a>"
      ]
    },
    {
      "cell_type": "markdown",
      "metadata": {
        "id": "ZN3dOqS_Yiqg"
      },
      "source": [
        "\n",
        "\n",
        "# HW 2: Analyzing IMDb Data\n",
        "\n",
        "---"
      ]
    },
    {
      "cell_type": "markdown",
      "metadata": {
        "id": "eiOFMQhrYiqi"
      },
      "source": [
        "For HW  two, you will complete a serious of exercises exploring movie rating data from IMDb.\n",
        "\n",
        "For these exercises, you will be conducting basic exploratory data analysis on IMDB's movie data, looking to answer such questions as:\n",
        "\n",
        "What is the average rating per genre?\n",
        "How many different actors are in a movie?\n",
        "\n",
        "This process will help you practice your data analysis skills while becoming comfortable with Pandas."
      ]
    },
    {
      "cell_type": "markdown",
      "metadata": {
        "id": "evywzmz4brZ-"
      },
      "source": [
        "The csv data can be downloaded from https://drive.google.com/file/d/17mC_GnBnOlwrKcD7QZkehcxVdvAApH7v for your offline use purpose"
      ]
    },
    {
      "cell_type": "markdown",
      "metadata": {
        "id": "O0iJJPsKYiql"
      },
      "source": [
        "## Part 1"
      ]
    },
    {
      "cell_type": "code",
      "metadata": {
        "id": "ZxEcPzUOYiqn"
      },
      "source": [
        "import pandas as pd\n",
        "import matplotlib.pyplot as plt\n",
        "%matplotlib inline"
      ],
      "execution_count": null,
      "outputs": []
    },
    {
      "cell_type": "code",
      "metadata": {
        "id": "tlYBlIJqZ5E7"
      },
      "source": [
        "#1 Code to read csv file into colaboratory:\n",
        "!pip install -U -q PyDrive\n",
        "from pydrive.auth import GoogleAuth\n",
        "from pydrive.drive import GoogleDrive\n",
        "from google.colab import auth\n",
        "from oauth2client.client import GoogleCredentials\n",
        "\n",
        "# 1. Authenticate and create the PyDrive client.\n",
        "auth.authenticate_user()\n",
        "gauth = GoogleAuth()\n",
        "gauth.credentials = GoogleCredentials.get_application_default()\n",
        "drive = GoogleDrive(gauth)"
      ],
      "execution_count": null,
      "outputs": []
    },
    {
      "cell_type": "code",
      "metadata": {
        "id": "1zVBMWX7Z564"
      },
      "source": [
        "#2. Get the file\n",
        "#make sure you upload all your data files to your Google drive and change share->Advanced->change->anyone with the link can view\n",
        "downloaded = drive.CreateFile({'id':'12oQVUx8gGsdruEi4iJB-KFvxLt3znK-l'}) # replace the id with id of file you want to access\n",
        "downloaded.GetContentFile('imdb_1000.csv') "
      ],
      "execution_count": null,
      "outputs": []
    },
    {
      "cell_type": "code",
      "metadata": {
        "colab": {
          "base_uri": "https://localhost:8080/"
        },
        "id": "iniVAuckPg_-",
        "outputId": "58c059b6-c7c0-42c3-a43a-73b90145d1d7"
      },
      "source": [
        "movies.isnull().sum()"
      ],
      "execution_count": null,
      "outputs": [
        {
          "output_type": "execute_result",
          "data": {
            "text/plain": [
              "star_rating       0\n",
              "title             0\n",
              "content_rating    3\n",
              "genre             0\n",
              "duration          0\n",
              "actors_list       0\n",
              "dtype: int64"
            ]
          },
          "metadata": {
            "tags": []
          },
          "execution_count": 8
        }
      ]
    },
    {
      "cell_type": "code",
      "metadata": {
        "colab": {
          "base_uri": "https://localhost:8080/",
          "height": 136
        },
        "id": "keZAqDNbP5p_",
        "outputId": "b3b589c7-5b9e-4226-eb93-fc09c82d4d9b"
      },
      "source": [
        "movies[movies.content_rating.isna()]"
      ],
      "execution_count": null,
      "outputs": [
        {
          "output_type": "execute_result",
          "data": {
            "text/html": [
              "<div>\n",
              "<style scoped>\n",
              "    .dataframe tbody tr th:only-of-type {\n",
              "        vertical-align: middle;\n",
              "    }\n",
              "\n",
              "    .dataframe tbody tr th {\n",
              "        vertical-align: top;\n",
              "    }\n",
              "\n",
              "    .dataframe thead th {\n",
              "        text-align: right;\n",
              "    }\n",
              "</style>\n",
              "<table border=\"1\" class=\"dataframe\">\n",
              "  <thead>\n",
              "    <tr style=\"text-align: right;\">\n",
              "      <th></th>\n",
              "      <th>star_rating</th>\n",
              "      <th>title</th>\n",
              "      <th>content_rating</th>\n",
              "      <th>genre</th>\n",
              "      <th>duration</th>\n",
              "      <th>actors_list</th>\n",
              "    </tr>\n",
              "  </thead>\n",
              "  <tbody>\n",
              "    <tr>\n",
              "      <th>187</th>\n",
              "      <td>8.2</td>\n",
              "      <td>Butch Cassidy and the Sundance Kid</td>\n",
              "      <td>NaN</td>\n",
              "      <td>Biography</td>\n",
              "      <td>110</td>\n",
              "      <td>[u'Paul Newman', u'Robert Redford', u'Katharin...</td>\n",
              "    </tr>\n",
              "    <tr>\n",
              "      <th>649</th>\n",
              "      <td>7.7</td>\n",
              "      <td>Where Eagles Dare</td>\n",
              "      <td>NaN</td>\n",
              "      <td>Action</td>\n",
              "      <td>158</td>\n",
              "      <td>[u'Richard Burton', u'Clint Eastwood', u'Mary ...</td>\n",
              "    </tr>\n",
              "    <tr>\n",
              "      <th>936</th>\n",
              "      <td>7.4</td>\n",
              "      <td>True Grit</td>\n",
              "      <td>NaN</td>\n",
              "      <td>Adventure</td>\n",
              "      <td>128</td>\n",
              "      <td>[u'John Wayne', u'Kim Darby', u'Glen Campbell']</td>\n",
              "    </tr>\n",
              "  </tbody>\n",
              "</table>\n",
              "</div>"
            ],
            "text/plain": [
              "     star_rating  ...                                        actors_list\n",
              "187          8.2  ...  [u'Paul Newman', u'Robert Redford', u'Katharin...\n",
              "649          7.7  ...  [u'Richard Burton', u'Clint Eastwood', u'Mary ...\n",
              "936          7.4  ...    [u'John Wayne', u'Kim Darby', u'Glen Campbell']\n",
              "\n",
              "[3 rows x 6 columns]"
            ]
          },
          "metadata": {
            "tags": []
          },
          "execution_count": 10
        }
      ]
    },
    {
      "cell_type": "code",
      "metadata": {
        "colab": {
          "base_uri": "https://localhost:8080/"
        },
        "id": "CrVqGBrrPx_y",
        "outputId": "db54881d-3c2c-4e64-c789-876b92a22ca0"
      },
      "source": [
        "movies.info()"
      ],
      "execution_count": null,
      "outputs": [
        {
          "output_type": "stream",
          "text": [
            "<class 'pandas.core.frame.DataFrame'>\n",
            "RangeIndex: 979 entries, 0 to 978\n",
            "Data columns (total 6 columns):\n",
            " #   Column          Non-Null Count  Dtype  \n",
            "---  ------          --------------  -----  \n",
            " 0   star_rating     979 non-null    float64\n",
            " 1   title           979 non-null    object \n",
            " 2   content_rating  976 non-null    object \n",
            " 3   genre           979 non-null    object \n",
            " 4   duration        979 non-null    int64  \n",
            " 5   actors_list     979 non-null    object \n",
            "dtypes: float64(1), int64(1), object(4)\n",
            "memory usage: 46.0+ KB\n"
          ],
          "name": "stdout"
        }
      ]
    },
    {
      "cell_type": "markdown",
      "metadata": {
        "id": "4XGbDoh0Yiqu"
      },
      "source": [
        "#### Read in 'imdb_1000.csv' and store it in a DataFrame named movies."
      ]
    },
    {
      "cell_type": "code",
      "metadata": {
        "id": "SMeS0mAnYiqw",
        "colab": {
          "base_uri": "https://localhost:8080/",
          "height": 195
        },
        "outputId": "1ddb91e9-3ec9-4c5d-e01d-8739eb20cefe"
      },
      "source": [
        "movies = pd.read_csv('imdb_1000.csv')\n",
        "movies.head()"
      ],
      "execution_count": null,
      "outputs": [
        {
          "output_type": "execute_result",
          "data": {
            "text/html": [
              "<div>\n",
              "<style scoped>\n",
              "    .dataframe tbody tr th:only-of-type {\n",
              "        vertical-align: middle;\n",
              "    }\n",
              "\n",
              "    .dataframe tbody tr th {\n",
              "        vertical-align: top;\n",
              "    }\n",
              "\n",
              "    .dataframe thead th {\n",
              "        text-align: right;\n",
              "    }\n",
              "</style>\n",
              "<table border=\"1\" class=\"dataframe\">\n",
              "  <thead>\n",
              "    <tr style=\"text-align: right;\">\n",
              "      <th></th>\n",
              "      <th>star_rating</th>\n",
              "      <th>title</th>\n",
              "      <th>content_rating</th>\n",
              "      <th>genre</th>\n",
              "      <th>duration</th>\n",
              "      <th>actors_list</th>\n",
              "    </tr>\n",
              "  </thead>\n",
              "  <tbody>\n",
              "    <tr>\n",
              "      <th>0</th>\n",
              "      <td>9.3</td>\n",
              "      <td>The Shawshank Redemption</td>\n",
              "      <td>R</td>\n",
              "      <td>Crime</td>\n",
              "      <td>142</td>\n",
              "      <td>[u'Tim Robbins', u'Morgan Freeman', u'Bob Gunt...</td>\n",
              "    </tr>\n",
              "    <tr>\n",
              "      <th>1</th>\n",
              "      <td>9.2</td>\n",
              "      <td>The Godfather</td>\n",
              "      <td>R</td>\n",
              "      <td>Crime</td>\n",
              "      <td>175</td>\n",
              "      <td>[u'Marlon Brando', u'Al Pacino', u'James Caan']</td>\n",
              "    </tr>\n",
              "    <tr>\n",
              "      <th>2</th>\n",
              "      <td>9.1</td>\n",
              "      <td>The Godfather: Part II</td>\n",
              "      <td>R</td>\n",
              "      <td>Crime</td>\n",
              "      <td>200</td>\n",
              "      <td>[u'Al Pacino', u'Robert De Niro', u'Robert Duv...</td>\n",
              "    </tr>\n",
              "    <tr>\n",
              "      <th>3</th>\n",
              "      <td>9.0</td>\n",
              "      <td>The Dark Knight</td>\n",
              "      <td>PG-13</td>\n",
              "      <td>Action</td>\n",
              "      <td>152</td>\n",
              "      <td>[u'Christian Bale', u'Heath Ledger', u'Aaron E...</td>\n",
              "    </tr>\n",
              "    <tr>\n",
              "      <th>4</th>\n",
              "      <td>8.9</td>\n",
              "      <td>Pulp Fiction</td>\n",
              "      <td>R</td>\n",
              "      <td>Crime</td>\n",
              "      <td>154</td>\n",
              "      <td>[u'John Travolta', u'Uma Thurman', u'Samuel L....</td>\n",
              "    </tr>\n",
              "  </tbody>\n",
              "</table>\n",
              "</div>"
            ],
            "text/plain": [
              "   star_rating  ...                                        actors_list\n",
              "0          9.3  ...  [u'Tim Robbins', u'Morgan Freeman', u'Bob Gunt...\n",
              "1          9.2  ...    [u'Marlon Brando', u'Al Pacino', u'James Caan']\n",
              "2          9.1  ...  [u'Al Pacino', u'Robert De Niro', u'Robert Duv...\n",
              "3          9.0  ...  [u'Christian Bale', u'Heath Ledger', u'Aaron E...\n",
              "4          8.9  ...  [u'John Travolta', u'Uma Thurman', u'Samuel L....\n",
              "\n",
              "[5 rows x 6 columns]"
            ]
          },
          "metadata": {
            "tags": []
          },
          "execution_count": 7
        }
      ]
    },
    {
      "cell_type": "markdown",
      "metadata": {
        "id": "bt_YG5t2Yiq3"
      },
      "source": [
        "#### Check the number of rows and columns."
      ]
    },
    {
      "cell_type": "code",
      "metadata": {
        "id": "QaRrROi2Yiq5"
      },
      "source": [
        "# Answer:\n",
        "movies.shape"
      ],
      "execution_count": null,
      "outputs": []
    },
    {
      "cell_type": "markdown",
      "metadata": {
        "id": "QI-5ZNRZYiq_"
      },
      "source": [
        "#### Check the data type of each column."
      ]
    },
    {
      "cell_type": "code",
      "metadata": {
        "id": "8OcFfpDGYirA"
      },
      "source": [
        "# Answer:"
      ],
      "execution_count": null,
      "outputs": []
    },
    {
      "cell_type": "markdown",
      "metadata": {
        "id": "XM4tTDGgYirG"
      },
      "source": [
        "#### Calculate the average movie duration."
      ]
    },
    {
      "cell_type": "code",
      "metadata": {
        "id": "6wR0wQypYirH"
      },
      "source": [
        "# Answer:"
      ],
      "execution_count": null,
      "outputs": []
    },
    {
      "cell_type": "markdown",
      "metadata": {
        "id": "P7E8jto5YirN"
      },
      "source": [
        "#### Sort the DataFrame by duration to find the shortest and longest movies."
      ]
    },
    {
      "cell_type": "code",
      "metadata": {
        "id": "BKYAHPQyYirT"
      },
      "source": [
        "# Answer:\n"
      ],
      "execution_count": null,
      "outputs": []
    },
    {
      "cell_type": "markdown",
      "metadata": {
        "id": "dH8rYbcfYirb"
      },
      "source": [
        "#### Create a histogram of duration, choosing an \"appropriate\" number of bins."
      ]
    },
    {
      "cell_type": "code",
      "metadata": {
        "id": "064QKOVfYire"
      },
      "source": [
        "# Answer:"
      ],
      "execution_count": null,
      "outputs": []
    },
    {
      "cell_type": "markdown",
      "metadata": {
        "id": "LuHaMK26Yirl"
      },
      "source": [
        "#### Use a box plot to display that same data."
      ]
    },
    {
      "cell_type": "code",
      "metadata": {
        "id": "u5LtAvdIYirm"
      },
      "source": [
        "# Answer:"
      ],
      "execution_count": null,
      "outputs": []
    },
    {
      "cell_type": "markdown",
      "metadata": {
        "id": "CQ02aIjoYirq"
      },
      "source": [
        "## Part 2"
      ]
    },
    {
      "cell_type": "markdown",
      "metadata": {
        "id": "5Gzfx9IPYirs"
      },
      "source": [
        "#### Count how many movies have each of the content ratings."
      ]
    },
    {
      "cell_type": "code",
      "metadata": {
        "colab": {
          "base_uri": "https://localhost:8080/",
          "height": 195
        },
        "id": "Mkgrl-Psinmo",
        "outputId": "4f1d351f-a388-4703-f63b-ec1e599721d9"
      },
      "source": [
        "movies.sample(5)"
      ],
      "execution_count": null,
      "outputs": [
        {
          "output_type": "execute_result",
          "data": {
            "text/html": [
              "<div>\n",
              "<style scoped>\n",
              "    .dataframe tbody tr th:only-of-type {\n",
              "        vertical-align: middle;\n",
              "    }\n",
              "\n",
              "    .dataframe tbody tr th {\n",
              "        vertical-align: top;\n",
              "    }\n",
              "\n",
              "    .dataframe thead th {\n",
              "        text-align: right;\n",
              "    }\n",
              "</style>\n",
              "<table border=\"1\" class=\"dataframe\">\n",
              "  <thead>\n",
              "    <tr style=\"text-align: right;\">\n",
              "      <th></th>\n",
              "      <th>star_rating</th>\n",
              "      <th>title</th>\n",
              "      <th>content_rating</th>\n",
              "      <th>genre</th>\n",
              "      <th>duration</th>\n",
              "      <th>actors_list</th>\n",
              "    </tr>\n",
              "  </thead>\n",
              "  <tbody>\n",
              "    <tr>\n",
              "      <th>955</th>\n",
              "      <td>7.4</td>\n",
              "      <td>Zero Dark Thirty</td>\n",
              "      <td>R</td>\n",
              "      <td>Drama</td>\n",
              "      <td>157</td>\n",
              "      <td>[u'Jessica Chastain', u'Joel Edgerton', u'Chri...</td>\n",
              "    </tr>\n",
              "    <tr>\n",
              "      <th>723</th>\n",
              "      <td>7.6</td>\n",
              "      <td>Animal House</td>\n",
              "      <td>R</td>\n",
              "      <td>Comedy</td>\n",
              "      <td>109</td>\n",
              "      <td>[u'John Belushi', u'Karen Allen', u'Tom Hulce']</td>\n",
              "    </tr>\n",
              "    <tr>\n",
              "      <th>957</th>\n",
              "      <td>7.4</td>\n",
              "      <td>National Lampoon's Vacation</td>\n",
              "      <td>R</td>\n",
              "      <td>Comedy</td>\n",
              "      <td>98</td>\n",
              "      <td>[u'Chevy Chase', u\"Beverly D'Angelo\", u'Imogen...</td>\n",
              "    </tr>\n",
              "    <tr>\n",
              "      <th>792</th>\n",
              "      <td>7.6</td>\n",
              "      <td>High Fidelity</td>\n",
              "      <td>R</td>\n",
              "      <td>Comedy</td>\n",
              "      <td>113</td>\n",
              "      <td>[u'John Cusack', u'Iben Hjejle', u'Todd Louiso']</td>\n",
              "    </tr>\n",
              "    <tr>\n",
              "      <th>562</th>\n",
              "      <td>7.8</td>\n",
              "      <td>What's Eating Gilbert Grape</td>\n",
              "      <td>PG-13</td>\n",
              "      <td>Drama</td>\n",
              "      <td>118</td>\n",
              "      <td>[u'Johnny Depp', u'Leonardo DiCaprio', u'Julie...</td>\n",
              "    </tr>\n",
              "  </tbody>\n",
              "</table>\n",
              "</div>"
            ],
            "text/plain": [
              "     star_rating  ...                                        actors_list\n",
              "955          7.4  ...  [u'Jessica Chastain', u'Joel Edgerton', u'Chri...\n",
              "723          7.6  ...    [u'John Belushi', u'Karen Allen', u'Tom Hulce']\n",
              "957          7.4  ...  [u'Chevy Chase', u\"Beverly D'Angelo\", u'Imogen...\n",
              "792          7.6  ...   [u'John Cusack', u'Iben Hjejle', u'Todd Louiso']\n",
              "562          7.8  ...  [u'Johnny Depp', u'Leonardo DiCaprio', u'Julie...\n",
              "\n",
              "[5 rows x 6 columns]"
            ]
          },
          "metadata": {
            "tags": []
          },
          "execution_count": 8
        }
      ]
    },
    {
      "cell_type": "code",
      "metadata": {
        "id": "81BeJBTXYirt"
      },
      "source": [
        "# Answer:"
      ],
      "execution_count": null,
      "outputs": []
    },
    {
      "cell_type": "markdown",
      "metadata": {
        "id": "WH6SKpmQYiry"
      },
      "source": [
        "#### Use a visualization to display that same data, including a title and x and y labels."
      ]
    },
    {
      "cell_type": "code",
      "metadata": {
        "id": "Dpycq14rYir0"
      },
      "source": [
        "# Answer:"
      ],
      "execution_count": null,
      "outputs": []
    },
    {
      "cell_type": "markdown",
      "metadata": {
        "id": "1x8vQD_QYir4"
      },
      "source": [
        "#### Convert the following content ratings to \"UNRATED\": NOT RATED, APPROVED, PASSED, GP."
      ]
    },
    {
      "cell_type": "code",
      "metadata": {
        "id": "j5HkOPsLYir5"
      },
      "source": [
        "# Answer:\n",
        "df[col3]=['UNRATED' if ((x =='NOT RATED')  | ()) else x for x in df['col3']]"
      ],
      "execution_count": null,
      "outputs": []
    },
    {
      "cell_type": "markdown",
      "metadata": {
        "id": "kFCIiwbAYir-"
      },
      "source": [
        "#### Convert the following content ratings to \"NC-17\": X, TV-MA."
      ]
    },
    {
      "cell_type": "code",
      "metadata": {
        "id": "nI7W0y6nYisA"
      },
      "source": [
        "# Answer:"
      ],
      "execution_count": null,
      "outputs": []
    },
    {
      "cell_type": "markdown",
      "metadata": {
        "id": "aGDFNU7OYisF"
      },
      "source": [
        "#### Count the number of missing values in each column."
      ]
    },
    {
      "cell_type": "code",
      "metadata": {
        "id": "Kzid35PcYisH",
        "colab": {
          "base_uri": "https://localhost:8080/"
        },
        "outputId": "3869211a-2602-4769-c08d-3ca667175a6f"
      },
      "source": [
        "# Answer:\n",
        "movies.isnull().sum()"
      ],
      "execution_count": null,
      "outputs": [
        {
          "output_type": "execute_result",
          "data": {
            "text/plain": [
              "star_rating       0\n",
              "title             0\n",
              "content_rating    3\n",
              "genre             0\n",
              "duration          0\n",
              "actors_list       0\n",
              "dtype: int64"
            ]
          },
          "metadata": {
            "tags": []
          },
          "execution_count": 9
        }
      ]
    },
    {
      "cell_type": "markdown",
      "metadata": {
        "id": "i0Q_A-2bYisV"
      },
      "source": [
        "#### If there are missing values: examine them, then fill them in with \"reasonable\" values."
      ]
    },
    {
      "cell_type": "code",
      "metadata": {
        "id": "WH_fng5PYisX",
        "colab": {
          "base_uri": "https://localhost:8080/",
          "height": 195
        },
        "outputId": "4f9e5eaa-800f-4a96-9f52-d4aa7c0979cb"
      },
      "source": [
        "# Answer:\n",
        "movies.head()"
      ],
      "execution_count": null,
      "outputs": [
        {
          "output_type": "execute_result",
          "data": {
            "text/html": [
              "<div>\n",
              "<style scoped>\n",
              "    .dataframe tbody tr th:only-of-type {\n",
              "        vertical-align: middle;\n",
              "    }\n",
              "\n",
              "    .dataframe tbody tr th {\n",
              "        vertical-align: top;\n",
              "    }\n",
              "\n",
              "    .dataframe thead th {\n",
              "        text-align: right;\n",
              "    }\n",
              "</style>\n",
              "<table border=\"1\" class=\"dataframe\">\n",
              "  <thead>\n",
              "    <tr style=\"text-align: right;\">\n",
              "      <th></th>\n",
              "      <th>star_rating</th>\n",
              "      <th>title</th>\n",
              "      <th>content_rating</th>\n",
              "      <th>genre</th>\n",
              "      <th>duration</th>\n",
              "      <th>actors_list</th>\n",
              "    </tr>\n",
              "  </thead>\n",
              "  <tbody>\n",
              "    <tr>\n",
              "      <th>0</th>\n",
              "      <td>9.3</td>\n",
              "      <td>The Shawshank Redemption</td>\n",
              "      <td>R</td>\n",
              "      <td>Crime</td>\n",
              "      <td>142</td>\n",
              "      <td>[u'Tim Robbins', u'Morgan Freeman', u'Bob Gunt...</td>\n",
              "    </tr>\n",
              "    <tr>\n",
              "      <th>1</th>\n",
              "      <td>9.2</td>\n",
              "      <td>The Godfather</td>\n",
              "      <td>R</td>\n",
              "      <td>Crime</td>\n",
              "      <td>175</td>\n",
              "      <td>[u'Marlon Brando', u'Al Pacino', u'James Caan']</td>\n",
              "    </tr>\n",
              "    <tr>\n",
              "      <th>2</th>\n",
              "      <td>9.1</td>\n",
              "      <td>The Godfather: Part II</td>\n",
              "      <td>R</td>\n",
              "      <td>Crime</td>\n",
              "      <td>200</td>\n",
              "      <td>[u'Al Pacino', u'Robert De Niro', u'Robert Duv...</td>\n",
              "    </tr>\n",
              "    <tr>\n",
              "      <th>3</th>\n",
              "      <td>9.0</td>\n",
              "      <td>The Dark Knight</td>\n",
              "      <td>PG-13</td>\n",
              "      <td>Action</td>\n",
              "      <td>152</td>\n",
              "      <td>[u'Christian Bale', u'Heath Ledger', u'Aaron E...</td>\n",
              "    </tr>\n",
              "    <tr>\n",
              "      <th>4</th>\n",
              "      <td>8.9</td>\n",
              "      <td>Pulp Fiction</td>\n",
              "      <td>R</td>\n",
              "      <td>Crime</td>\n",
              "      <td>154</td>\n",
              "      <td>[u'John Travolta', u'Uma Thurman', u'Samuel L....</td>\n",
              "    </tr>\n",
              "  </tbody>\n",
              "</table>\n",
              "</div>"
            ],
            "text/plain": [
              "   star_rating  ...                                        actors_list\n",
              "0          9.3  ...  [u'Tim Robbins', u'Morgan Freeman', u'Bob Gunt...\n",
              "1          9.2  ...    [u'Marlon Brando', u'Al Pacino', u'James Caan']\n",
              "2          9.1  ...  [u'Al Pacino', u'Robert De Niro', u'Robert Duv...\n",
              "3          9.0  ...  [u'Christian Bale', u'Heath Ledger', u'Aaron E...\n",
              "4          8.9  ...  [u'John Travolta', u'Uma Thurman', u'Samuel L....\n",
              "\n",
              "[5 rows x 6 columns]"
            ]
          },
          "metadata": {
            "tags": []
          },
          "execution_count": 10
        }
      ]
    },
    {
      "cell_type": "markdown",
      "metadata": {
        "id": "eR4R_o7zYisd"
      },
      "source": [
        "#### Calculate the average star rating for movies 2 hours or longer, and compare that with the average star rating for movies shorter than 2 hours."
      ]
    },
    {
      "cell_type": "code",
      "metadata": {
        "id": "_B-Q3YHKYisf"
      },
      "source": [
        "# Answer:"
      ],
      "execution_count": null,
      "outputs": []
    },
    {
      "cell_type": "markdown",
      "metadata": {
        "id": "ZUnHNptCYisj"
      },
      "source": [
        "#### Use a visualization to detect whether there is a relationship between duration and star rating."
      ]
    },
    {
      "cell_type": "code",
      "metadata": {
        "id": "074B3BBaYisl"
      },
      "source": [
        "# Answer:"
      ],
      "execution_count": null,
      "outputs": []
    },
    {
      "cell_type": "markdown",
      "metadata": {
        "id": "cnoiIGWmYisq"
      },
      "source": [
        "#### Calculate the average duration for each genre."
      ]
    },
    {
      "cell_type": "code",
      "metadata": {
        "id": "qeZ7suYUYisr"
      },
      "source": [
        "# Answer:\n",
        "movies.groupby('genre')."
      ],
      "execution_count": null,
      "outputs": []
    },
    {
      "cell_type": "markdown",
      "metadata": {
        "id": "wiDs-fnxYisy"
      },
      "source": [
        "## Part 3"
      ]
    },
    {
      "cell_type": "markdown",
      "metadata": {
        "id": "r0Y61PEdYis0"
      },
      "source": [
        "#### Visualize the relationship between content rating and duration."
      ]
    },
    {
      "cell_type": "code",
      "metadata": {
        "id": "CK19qLKeYis3"
      },
      "source": [
        "# Answer:"
      ],
      "execution_count": null,
      "outputs": []
    },
    {
      "cell_type": "markdown",
      "metadata": {
        "id": "y6Y0Zhv2Yis_"
      },
      "source": [
        "#### Determine the top rated movie (by star rating) for each genre."
      ]
    },
    {
      "cell_type": "code",
      "metadata": {
        "id": "CMddj3HWYitA"
      },
      "source": [
        "# Answer:"
      ],
      "execution_count": null,
      "outputs": []
    },
    {
      "cell_type": "markdown",
      "metadata": {
        "id": "FBbofnNuYitE"
      },
      "source": [
        "#### Check if there are multiple movies with the same title, and if so, determine if they are actually duplicates."
      ]
    },
    {
      "cell_type": "code",
      "metadata": {
        "id": "jz92U13EYitF"
      },
      "source": [
        "# Answer:\n",
        "#hint: \n",
        "#dups = datframe[datframe[column1].duplicated(False)]"
      ],
      "execution_count": null,
      "outputs": []
    },
    {
      "cell_type": "markdown",
      "metadata": {
        "id": "-kAtf7-9YitJ"
      },
      "source": [
        "#### Calculate the average star rating for each genre, but only include genres with at least 10 movies (Use ONE of the options below)"
      ]
    },
    {
      "cell_type": "code",
      "metadata": {
        "id": "6rNzXzgdkg5R"
      },
      "source": [
        "#movies.groupby('genre').star_rating.mean()"
      ],
      "execution_count": null,
      "outputs": []
    },
    {
      "cell_type": "markdown",
      "metadata": {
        "id": "mKnozXvsYitK"
      },
      "source": [
        "#### Option 1: manually create a list of relevant genres, then filter using that list (no value_counts should be used)"
      ]
    },
    {
      "cell_type": "code",
      "metadata": {
        "id": "XxmqcBFRYitL"
      },
      "source": [
        "# Answer:"
      ],
      "execution_count": null,
      "outputs": []
    },
    {
      "cell_type": "markdown",
      "metadata": {
        "id": "80SKmOflYitP"
      },
      "source": [
        "#### Option 2: automatically create a list of relevant genres by saving the value_counts(must use) and then filtering"
      ]
    },
    {
      "cell_type": "code",
      "metadata": {
        "id": "Y-dgM5zKYitR"
      },
      "source": [
        "# Answer:"
      ],
      "execution_count": null,
      "outputs": []
    },
    {
      "cell_type": "markdown",
      "metadata": {
        "id": "4eBYGJgmYitU"
      },
      "source": [
        "#### Option 3: calculate the average star rating for all genres, then filter using a boolean Series"
      ]
    },
    {
      "cell_type": "code",
      "metadata": {
        "id": "M0WjHr28YitW"
      },
      "source": [
        "# Answer:"
      ],
      "execution_count": null,
      "outputs": []
    },
    {
      "cell_type": "markdown",
      "metadata": {
        "id": "Gs0i-u13YitZ"
      },
      "source": [
        "#### Option 4: aggregate by count and mean, then filter using the count"
      ]
    },
    {
      "cell_type": "code",
      "metadata": {
        "id": "Xo_pVaBlYitb"
      },
      "source": [
        "# Answer:"
      ],
      "execution_count": null,
      "outputs": []
    },
    {
      "cell_type": "markdown",
      "metadata": {
        "id": "HzWm7dMCYitg"
      },
      "source": [
        "#### Figure out something \"interesting\" using the actors data!\n",
        "*Explain what you intend to get out of this data and show the result with your code*"
      ]
    },
    {
      "cell_type": "code",
      "metadata": {
        "id": "9k6nvvHRYith"
      },
      "source": [
        ""
      ],
      "execution_count": null,
      "outputs": []
    }
  ]
}